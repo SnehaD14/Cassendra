{
  "nbformat": 4,
  "nbformat_minor": 0,
  "metadata": {
    "colab": {
      "provenance": []
    },
    "kernelspec": {
      "name": "python3",
      "display_name": "Python 3"
    },
    "language_info": {
      "name": "python"
    }
  },
  "cells": [
    {
      "cell_type": "markdown",
      "source": [
        "## Set up the enivornment"
      ],
      "metadata": {
        "id": "_csHRl0k2Aez"
      }
    },
    {
      "cell_type": "code",
      "execution_count": null,
      "metadata": {
        "colab": {
          "base_uri": "https://localhost:8080/"
        },
        "id": "eOIJ-qWt192A",
        "outputId": "5434c202-8634-445a-beb9-c5b355d95408"
      },
      "outputs": [
        {
          "output_type": "stream",
          "name": "stdout",
          "text": [
            "Collecting cassandra-driver\n",
            "  Downloading cassandra_driver-3.29.2-cp310-cp310-manylinux_2_17_x86_64.manylinux2014_x86_64.whl.metadata (6.2 kB)\n",
            "Requirement already satisfied: pandas in /usr/local/lib/python3.10/dist-packages (2.2.2)\n",
            "Collecting geomet<0.3,>=0.1 (from cassandra-driver)\n",
            "  Downloading geomet-0.2.1.post1-py3-none-any.whl.metadata (1.0 kB)\n",
            "Requirement already satisfied: numpy>=1.22.4 in /usr/local/lib/python3.10/dist-packages (from pandas) (1.26.4)\n",
            "Requirement already satisfied: python-dateutil>=2.8.2 in /usr/local/lib/python3.10/dist-packages (from pandas) (2.8.2)\n",
            "Requirement already satisfied: pytz>=2020.1 in /usr/local/lib/python3.10/dist-packages (from pandas) (2024.2)\n",
            "Requirement already satisfied: tzdata>=2022.7 in /usr/local/lib/python3.10/dist-packages (from pandas) (2024.2)\n",
            "Requirement already satisfied: click in /usr/local/lib/python3.10/dist-packages (from geomet<0.3,>=0.1->cassandra-driver) (8.1.7)\n",
            "Requirement already satisfied: six in /usr/local/lib/python3.10/dist-packages (from geomet<0.3,>=0.1->cassandra-driver) (1.16.0)\n",
            "Downloading cassandra_driver-3.29.2-cp310-cp310-manylinux_2_17_x86_64.manylinux2014_x86_64.whl (3.9 MB)\n",
            "\u001b[2K   \u001b[90m━━━━━━━━━━━━━━━━━━━━━━━━━━━━━━━━━━━━━━━━\u001b[0m \u001b[32m3.9/3.9 MB\u001b[0m \u001b[31m31.2 MB/s\u001b[0m eta \u001b[36m0:00:00\u001b[0m\n",
            "\u001b[?25hDownloading geomet-0.2.1.post1-py3-none-any.whl (18 kB)\n",
            "Installing collected packages: geomet, cassandra-driver\n",
            "Successfully installed cassandra-driver-3.29.2 geomet-0.2.1.post1\n"
          ]
        }
      ],
      "source": [
        "pip install cassandra-driver pandas"
      ]
    },
    {
      "cell_type": "code",
      "source": [
        "import cassandra\n",
        "print(cassandra.__version__)\n"
      ],
      "metadata": {
        "colab": {
          "base_uri": "https://localhost:8080/"
        },
        "id": "ii_AXoLx2SjU",
        "outputId": "baa84e1b-56f6-440c-f1b2-75d598d34901"
      },
      "execution_count": null,
      "outputs": [
        {
          "output_type": "stream",
          "name": "stdout",
          "text": [
            "3.29.2\n"
          ]
        }
      ]
    },
    {
      "cell_type": "markdown",
      "source": [
        "## Creating the directory"
      ],
      "metadata": {
        "id": "3VDYOcnJ2YXM"
      }
    },
    {
      "cell_type": "code",
      "source": [
        "import os\n",
        "\n",
        "# Create a directory named \"Assignment3\"\n",
        "os.mkdir(\"Assignment3\")\n"
      ],
      "metadata": {
        "id": "scmwTfWQ2eGD"
      },
      "execution_count": null,
      "outputs": []
    },
    {
      "cell_type": "code",
      "source": [
        "import os\n",
        "\n",
        "# Change to the \"python_project\" directory\n",
        "os.chdir(\"Assignment3\")\n",
        "\n",
        "# Verify the current working directory\n",
        "print(\"Current Directory:\", os.getcwd())"
      ],
      "metadata": {
        "colab": {
          "base_uri": "https://localhost:8080/"
        },
        "id": "PJJWCfZj2jxX",
        "outputId": "19d05ff3-245a-4b90-9c91-31bf5aef1e6b"
      },
      "execution_count": null,
      "outputs": [
        {
          "output_type": "stream",
          "name": "stdout",
          "text": [
            "Current Directory: /content/Assignment3\n"
          ]
        }
      ]
    },
    {
      "cell_type": "code",
      "source": [
        "with open(\"connect_database.py\", \"w\") as file:\n",
        "    pass"
      ],
      "metadata": {
        "id": "q5Fh0Qwm2ons"
      },
      "execution_count": null,
      "outputs": []
    },
    {
      "cell_type": "markdown",
      "source": [
        "## Creating connection to cassendra."
      ],
      "metadata": {
        "id": "CC5y93cO219X"
      }
    },
    {
      "cell_type": "code",
      "source": [
        "from cassandra.cluster import Cluster\n",
        "from cassandra.auth import PlainTextAuthProvider\n",
        "import json\n",
        "\n",
        "# This secure connect bundle is autogenerated when you download your SCB,\n",
        "# if yours is different update the file name below\n",
        "cloud_config = {\n",
        "    'secure_connect_bundle': '/content/Assignment3/secure-connect-sneha.zip'\n",
        "}\n",
        "# This token JSON file is autogenerated when you download your token,\n",
        "# if yours is different update the file name below\n",
        "with open(\"/content/Assignment3/Sneha-token.json\") as f:\n",
        "    secrets = json.load(f)\n",
        "\n",
        "\n",
        "CLIENT_ID = secrets[\"clientId\"]\n",
        "CLIENT_SECRET = secrets[\"secret\"]\n",
        "\n",
        "auth_provider = PlainTextAuthProvider(CLIENT_ID, CLIENT_SECRET)\n",
        "cluster = Cluster(cloud=cloud_config, auth_provider=auth_provider)\n",
        "session = cluster.connect()\n",
        "\n",
        "row = session.execute(\"select release_version from system.local\").one()\n",
        "if row:\n",
        "  print(row[0])\n",
        "else:\n",
        "  print(\"An error occurred.\")"
      ],
      "metadata": {
        "colab": {
          "base_uri": "https://localhost:8080/"
        },
        "id": "G278-lh32y1p",
        "outputId": "d463d1bd-4d94-4aef-82ec-9bbe3f16e40f"
      },
      "execution_count": 10,
      "outputs": [
        {
          "output_type": "stream",
          "name": "stderr",
          "text": [
            "WARNING:cassandra.cluster:Downgrading core protocol version from 66 to 65 for 1ac5f705-54b0-43d9-82ef-0425abd6bad6-eu-west-1.db.astra.datastax.com:29042:678e6a1d-e5b1-3cba-b949-7bfaf823957f. To avoid this, it is best practice to explicitly set Cluster(protocol_version) to the version supported by your cluster. http://datastax.github.io/python-driver/api/cassandra/cluster.html#cassandra.cluster.Cluster.protocol_version\n",
            "WARNING:cassandra.cluster:Downgrading core protocol version from 65 to 5 for 1ac5f705-54b0-43d9-82ef-0425abd6bad6-eu-west-1.db.astra.datastax.com:29042:678e6a1d-e5b1-3cba-b949-7bfaf823957f. To avoid this, it is best practice to explicitly set Cluster(protocol_version) to the version supported by your cluster. http://datastax.github.io/python-driver/api/cassandra/cluster.html#cassandra.cluster.Cluster.protocol_version\n",
            "WARNING:cassandra.cluster:Downgrading core protocol version from 5 to 4 for 1ac5f705-54b0-43d9-82ef-0425abd6bad6-eu-west-1.db.astra.datastax.com:29042:678e6a1d-e5b1-3cba-b949-7bfaf823957f. To avoid this, it is best practice to explicitly set Cluster(protocol_version) to the version supported by your cluster. http://datastax.github.io/python-driver/api/cassandra/cluster.html#cassandra.cluster.Cluster.protocol_version\n"
          ]
        },
        {
          "output_type": "stream",
          "name": "stdout",
          "text": [
            "4.0.0.6816\n"
          ]
        }
      ]
    },
    {
      "cell_type": "code",
      "source": [
        "!python ./connect_database.py"
      ],
      "metadata": {
        "id": "c0Kiy8g_3SrU"
      },
      "execution_count": 11,
      "outputs": []
    },
    {
      "cell_type": "markdown",
      "source": [
        "## creating bronze level table"
      ],
      "metadata": {
        "id": "9D_gYwCj780Q"
      }
    },
    {
      "cell_type": "code",
      "source": [
        "from cassandra.cluster import Cluster\n",
        "from cassandra.auth import PlainTextAuthProvider\n",
        "import csv\n",
        "from datetime import datetime\n",
        "import uuid\n",
        "\n",
        "# Connection setup\n",
        "client_id = 'XTHZjgZRWbSZqXvWcYmtJAud'\n",
        "client_secret = 'qh-ElzlZAG_bfeoDjZ9.ZCbht7jJ_WrQrh27Se6RsPNFxgz6wBnlY+B2KkyCXpwiMna.-F_bQy1I7Le5.CByML5,1MjuoWRNTjYYjl8NbrcwI1Yqrq2G2Q.u48XSY0Km'\n",
        "secure_connect_bundle_path = '/content/Assignment3/secure-connect-sneha.zip'\n",
        "\n",
        "# Set up authentication\n",
        "auth_provider = PlainTextAuthProvider(client_id, client_secret)\n",
        "cluster = Cluster(\n",
        "    cloud={'secure_connect_bundle': secure_connect_bundle_path},\n",
        "    auth_provider=auth_provider,\n",
        "    protocol_version=4\n",
        ")\n",
        "\n",
        "try:\n",
        "    session = cluster.connect()\n",
        "    session.set_keyspace('sneha')\n",
        "\n",
        "    # Drop existing table if it exists\n",
        "    session.execute(\"DROP TABLE IF EXISTS bronze_sales\")\n",
        "\n",
        "    # Create Bronze Table\n",
        "    create_table_query = \"\"\"\n",
        "    CREATE TABLE IF NOT EXISTS bronze_sales (\n",
        "        id UUID PRIMARY KEY,\n",
        "        Region TEXT,\n",
        "        Country TEXT,\n",
        "        Item_Type TEXT,\n",
        "        Sales_Channel TEXT,\n",
        "        Order_Priority TEXT,\n",
        "        Order_Date DATE,\n",
        "        Order_ID TEXT,\n",
        "        Ship_Date DATE,\n",
        "        Units_Sold INT,\n",
        "        Unit_Price DECIMAL,\n",
        "        Unit_Cost DECIMAL,\n",
        "        Total_Revenue DECIMAL,\n",
        "        Total_Cost DECIMAL,\n",
        "        Total_Profit DECIMAL\n",
        "    )\n",
        "    \"\"\"\n",
        "    session.execute(create_table_query)\n",
        "    print(\"Bronze table created successfully\")\n",
        "\n",
        "    # Function to parse date\n",
        "    def parse_date(date_str):\n",
        "        return datetime.strptime(date_str, '%m/%d/%Y').date()\n",
        "\n",
        "    # Read and insert data from CSV\n",
        "    csv_file_path = '/content/Assignment3/sales_100.csv'\n",
        "    with open(csv_file_path, 'r') as file:\n",
        "        csv_reader = csv.DictReader(file)\n",
        "        for row in csv_reader:\n",
        "            try:\n",
        "                insert_query = \"\"\"\n",
        "                INSERT INTO bronze_sales (\n",
        "                    id, Region, Country, Item_Type, Sales_Channel,\n",
        "                    Order_Priority, Order_Date, Order_ID, Ship_Date, Units_Sold,\n",
        "                    Unit_Price, Unit_Cost, Total_Revenue, Total_Cost, Total_Profit\n",
        "                )\n",
        "                VALUES (%s, %s, %s, %s, %s, %s, %s, %s, %s, %s, %s, %s, %s, %s, %s)\n",
        "                \"\"\"\n",
        "                session.execute(insert_query, (\n",
        "                    uuid.uuid4(),\n",
        "                    row['Region'],\n",
        "                    row['Country'],\n",
        "                    row['Item Type'],\n",
        "                    row['Sales Channel'],\n",
        "                    row['Order Priority'],\n",
        "                    parse_date(row['Order Date']),\n",
        "                    row['Order ID'],\n",
        "                    parse_date(row['Ship Date']),\n",
        "                    int(row['UnitsSold']),  # Changed from 'Units Sold' to 'UnitsSold'\n",
        "                    float(row['UnitPrice']), # Changed from 'Unit Price' to 'UnitPrice'\n",
        "                    float(row['UnitCost']),  # Changed from 'Unit Cost' to 'UnitCost'\n",
        "                    float(row['TotalRevenue']), # Changed from 'Total Revenue' to 'TotalRevenue'\n",
        "                    float(row['TotalCost']),    # Changed from 'Total Cost' to 'TotalCost'\n",
        "                    float(row['TotalProfit'])   # Changed from 'Total Profit' to 'TotalProfit'\n",
        "                ))\n",
        "                print(f\"Inserted row with Order ID: {row['Order ID']}\")\n",
        "            except Exception as e:\n",
        "                print(f\"Error inserting row with Order ID {row['Order ID']}: {e}\")\n",
        "\n",
        "except Exception as e:\n",
        "    print(f\"An error occurred: {e}\")\n",
        "\n",
        "finally:\n",
        "    cluster.shutdown()\n",
        "    print(\"Connection closed\")"
      ],
      "metadata": {
        "colab": {
          "base_uri": "https://localhost:8080/"
        },
        "id": "ENfBUMx45dJv",
        "outputId": "0d02dd8e-e57c-43b4-df18-2a9738a76cdf"
      },
      "execution_count": 12,
      "outputs": [
        {
          "output_type": "stream",
          "name": "stdout",
          "text": [
            "Bronze table created successfully\n",
            "Inserted row with Order ID: 443368995\n",
            "Inserted row with Order ID: 667593514\n",
            "Inserted row with Order ID: 940995585\n",
            "Inserted row with Order ID: 880811536\n",
            "Inserted row with Order ID: 174590194\n",
            "Inserted row with Order ID: 830192887\n",
            "Inserted row with Order ID: 425793445\n",
            "Inserted row with Order ID: 659878194\n",
            "Inserted row with Order ID: 601245963\n",
            "Inserted row with Order ID: 739008080\n",
            "Inserted row with Order ID: 732588374\n",
            "Inserted row with Order ID: 761723172\n",
            "Inserted row with Order ID: 176461303\n",
            "Inserted row with Order ID: 647164094\n",
            "Inserted row with Order ID: 314505374\n",
            "Inserted row with Order ID: 539471471\n",
            "Inserted row with Order ID: 953361213\n",
            "Inserted row with Order ID: 807785928\n",
            "Inserted row with Order ID: 324669444\n",
            "Inserted row with Order ID: 246248090\n",
            "Inserted row with Order ID: 485070693\n",
            "Inserted row with Order ID: 573998582\n",
            "Inserted row with Order ID: 116205585\n",
            "Inserted row with Order ID: 135178029\n",
            "Inserted row with Order ID: 824714744\n",
            "Inserted row with Order ID: 198927056\n",
            "Inserted row with Order ID: 842238795\n",
            "Inserted row with Order ID: 459386289\n",
            "Inserted row with Order ID: 425418365\n",
            "Inserted row with Order ID: 835696351\n",
            "Inserted row with Order ID: 955894076\n",
            "Inserted row with Order ID: 571997869\n",
            "Inserted row with Order ID: 440306556\n",
            "Inserted row with Order ID: 937431466\n",
            "Inserted row with Order ID: 710296428\n",
            "Inserted row with Order ID: 726137769\n",
            "Inserted row with Order ID: 222504317\n",
            "Inserted row with Order ID: 757257401\n",
            "Inserted row with Order ID: 358570849\n",
            "Inserted row with Order ID: 274930989\n",
            "Inserted row with Order ID: 925136649\n",
            "Inserted row with Order ID: 548299157\n",
            "Inserted row with Order ID: 153842341\n",
            "Inserted row with Order ID: 371502530\n",
            "Inserted row with Order ID: 101328551\n",
            "Inserted row with Order ID: 563681733\n",
            "Inserted row with Order ID: 349235904\n",
            "Inserted row with Order ID: 368977391\n",
            "Inserted row with Order ID: 704205024\n",
            "Inserted row with Order ID: 156530129\n",
            "Inserted row with Order ID: 297876536\n",
            "Inserted row with Order ID: 520480573\n",
            "Inserted row with Order ID: 286891067\n",
            "Inserted row with Order ID: 479969346\n",
            "Inserted row with Order ID: 252889239\n",
            "Inserted row with Order ID: 179137074\n",
            "Inserted row with Order ID: 902511680\n",
            "Inserted row with Order ID: 887124383\n",
            "Inserted row with Order ID: 467399013\n",
            "Inserted row with Order ID: 498071897\n",
            "Inserted row with Order ID: 104191863\n",
            "Inserted row with Order ID: 731120240\n",
            "Inserted row with Order ID: 294530856\n",
            "Inserted row with Order ID: 830410039\n",
            "Inserted row with Order ID: 845056617\n",
            "Inserted row with Order ID: 265081918\n",
            "Inserted row with Order ID: 887409770\n",
            "Inserted row with Order ID: 529276502\n",
            "Inserted row with Order ID: 678230941\n",
            "Inserted row with Order ID: 642134416\n",
            "Inserted row with Order ID: 699160754\n",
            "Inserted row with Order ID: 747796285\n",
            "Inserted row with Order ID: 756839835\n",
            "Inserted row with Order ID: 315402734\n",
            "Inserted row with Order ID: 882908809\n",
            "Inserted row with Order ID: 839094388\n",
            "Inserted row with Order ID: 434008300\n",
            "Inserted row with Order ID: 438011872\n",
            "Inserted row with Order ID: 791778934\n",
            "Inserted row with Order ID: 156295812\n",
            "Inserted row with Order ID: 862861335\n",
            "Inserted row with Order ID: 363086831\n",
            "Inserted row with Order ID: 678896129\n",
            "Inserted row with Order ID: 752525556\n",
            "Inserted row with Order ID: 496523940\n",
            "Inserted row with Order ID: 343752610\n",
            "Inserted row with Order ID: 797385394\n",
            "Inserted row with Order ID: 180908620\n",
            "Inserted row with Order ID: 488121116\n",
            "Inserted row with Order ID: 633134210\n",
            "Inserted row with Order ID: 500371730\n",
            "Inserted row with Order ID: 494570004\n",
            "Inserted row with Order ID: 190777862\n",
            "Inserted row with Order ID: 584356629\n",
            "Inserted row with Order ID: 940980136\n",
            "Inserted row with Order ID: 146634709\n",
            "Inserted row with Order ID: 757619178\n",
            "Inserted row with Order ID: 450544869\n",
            "Inserted row with Order ID: 572335612\n",
            "Connection closed\n"
          ]
        }
      ]
    },
    {
      "cell_type": "markdown",
      "source": [
        "data present in bronze level"
      ],
      "metadata": {
        "id": "_C51Wq5h8XQg"
      }
    },
    {
      "cell_type": "code",
      "source": [
        "from cassandra.cluster import Cluster\n",
        "from cassandra.auth import PlainTextAuthProvider\n",
        "from cassandra.query import SimpleStatement\n",
        "\n",
        "# Connection setup\n",
        "client_id = 'XTHZjgZRWbSZqXvWcYmtJAud'\n",
        "client_secret = 'qh-ElzlZAG_bfeoDjZ9.ZCbht7jJ_WrQrh27Se6RsPNFxgz6wBnlY+B2KkyCXpwiMna.-F_bQy1I7Le5.CByML5,1MjuoWRNTjYYjl8NbrcwI1Yqrq2G2Q.u48XSY0Km'\n",
        "secure_connect_bundle_path = '/content/Assignment3/secure-connect-sneha.zip'\n",
        "\n",
        "# Set up authentication\n",
        "auth_provider = PlainTextAuthProvider(client_id, client_secret)\n",
        "cluster = Cluster(\n",
        "    cloud={'secure_connect_bundle': secure_connect_bundle_path},\n",
        "    auth_provider=auth_provider,\n",
        "    protocol_version=4\n",
        ")\n",
        "\n",
        "try:\n",
        "    session = cluster.connect()\n",
        "    session.set_keyspace('sneha')\n",
        "\n",
        "    # Query to select data from bronze_sales table\n",
        "    query = SimpleStatement(\"SELECT * FROM bronze_sales LIMIT 10\")\n",
        "    rows = session.execute(query)\n",
        "\n",
        "    # Print column names\n",
        "    if rows:\n",
        "        print(\"\\nColumns:\", rows.column_names)\n",
        "        print(\"\\nData:\")\n",
        "        for row in rows:\n",
        "            print(row)\n",
        "\n",
        "    # Get total count\n",
        "    count_query = SimpleStatement(\"SELECT COUNT(*) FROM bronze_sales\")\n",
        "    count = session.execute(count_query).one()[0]\n",
        "    print(f\"\\nTotal number of rows in bronze_sales: {count}\")\n",
        "\n",
        "except Exception as e:\n",
        "    print(f\"An error occurred: {e}\")\n",
        "\n",
        "finally:\n",
        "    cluster.shutdown()\n",
        "    print(\"\\nConnection closed\")"
      ],
      "metadata": {
        "colab": {
          "base_uri": "https://localhost:8080/"
        },
        "id": "Aa0JtU6v7xlC",
        "outputId": "f59ba850-0cc4-48d3-9033-c3b6b4659316"
      },
      "execution_count": 13,
      "outputs": [
        {
          "output_type": "stream",
          "name": "stderr",
          "text": [
            "WARNING:cassandra.protocol:Server warning: Aggregation query used without partition key\n"
          ]
        },
        {
          "output_type": "stream",
          "name": "stdout",
          "text": [
            "\n",
            "Columns: ['id', 'country', 'item_type', 'order_date', 'order_id', 'order_priority', 'region', 'sales_channel', 'ship_date', 'total_cost', 'total_profit', 'total_revenue', 'unit_cost', 'unit_price', 'units_sold']\n",
            "\n",
            "Data:\n",
            "Row(id=UUID('bbf70974-6e73-4439-a368-906c0f901633'), country='Antigua and Barbuda ', item_type='Office Supplies', order_date=Date(15249), order_id='286891067', order_priority='C', region='Central America and the Caribbean', sales_channel='Offline', ship_date=Date(15251), total_cost=Decimal('3305673.12'), total_profit=Decimal('794996.25'), total_revenue=Decimal('4100669.37'), unit_cost=Decimal('524.96'), unit_price=Decimal('651.21'), units_sold=6297)\n",
            "Row(id=UUID('0f475459-74d4-40c1-aa80-8f1715f82d33'), country='Turkmenistan', item_type='Vegetables', order_date=Date(16538), order_id='116205585', order_priority='M', region='Asia', sales_channel='Online', ship_date=Date(16588), total_cost=Decimal('606503.1'), total_profit=Decimal('421077.1'), total_revenue=Decimal('1027580.2'), unit_cost=Decimal('90.93'), unit_price=Decimal('154.06'), units_sold=6670)\n",
            "Row(id=UUID('1481c50a-004d-4237-90ec-b85c3e90bd76'), country='Estonia', item_type='Household', order_date=Date(15218), order_id='835696351', order_priority='H', region='Europe', sales_channel='Offline', ship_date=Date(15268), total_cost=Decimal('5013339.04'), total_profit=Decimal('1653322.48'), total_revenue=Decimal('6666661.52'), unit_cost=Decimal('502.54'), unit_price=Decimal('668.27'), units_sold=9976)\n",
            "Row(id=UUID('3b2f98ae-9ec5-4dc6-8774-d171f5b1e435'), country='Rwanda', item_type='Fruits', order_date=Date(15588), order_id='699160754', order_priority='L', region='Sub-Saharan Africa', sales_channel='Online', ship_date=Date(15598), total_cost=Decimal('41928.28'), total_profit=Decimal('14602.19'), total_revenue=Decimal('56530.47'), unit_cost=Decimal('6.92'), unit_price=Decimal('9.33'), units_sold=6059)\n",
            "Row(id=UUID('5139d3cb-9e55-41a1-8fc6-7861524b61a2'), country='Tonga', item_type='Baby Food', order_date=Date(16932), order_id='839094388', order_priority='L', region='Australia and Oceania', sales_channel='Online', ship_date=Date(16952), total_cost=Decimal('881752.02'), total_profit=Decimal('530201.66'), total_revenue=Decimal('1411953.68'), unit_cost=Decimal('159.42'), unit_price=Decimal('255.28'), units_sold=5531)\n",
            "Row(id=UUID('bc603a90-0fe2-4e83-bccf-d04894e48014'), country='Dominica', item_type='Household', order_date=Date(15297), order_id='274930989', order_priority='C', region='Central America and the Caribbean', sales_channel='Offline', ship_date=Date(15321), total_cost=Decimal('3539891.76'), total_profit=Decimal('1167402.12'), total_revenue=Decimal('4707293.88'), unit_cost=Decimal('502.54'), unit_price=Decimal('668.27'), units_sold=7044)\n",
            "Row(id=UUID('9c013e2d-dccc-4555-8cfe-d82dbe432767'), country='Madagascar', item_type='Clothes', order_date=Date(17091), order_id='494570004', order_priority='L', region='Sub-Saharan Africa', sales_channel='Online', ship_date=Date(17100), total_cost=Decimal('111462.4'), total_profit=Decimal('228398.4'), total_revenue=Decimal('339860.8'), unit_cost=Decimal('35.84'), unit_price=Decimal('109.28'), units_sold=3110)\n",
            "Row(id=UUID('d42a880f-55de-46a0-8202-54a160e99c8e'), country='United States of America', item_type='Personal Care', order_date=Date(16821), order_id='190777862', order_priority='H', region='North America', sales_channel='Online', ship_date=Date(16850), total_cost=Decimal('241640.88'), total_profit=Decimal('106855.84'), total_revenue=Decimal('348496.72'), unit_cost=Decimal('56.67'), unit_price=Decimal('81.73'), units_sold=4264)\n",
            "Row(id=UUID('e773b88a-5a52-4da6-8353-73ab3af05e0a'), country='Malawi', item_type='Meat', order_date=Date(16861), order_id='450544869', order_priority='H', region='Sub-Saharan Africa', sales_channel='Offline', ship_date=Date(16872), total_cost=Decimal('1857730.86'), total_profit=Decimal('291376.8'), total_revenue=Decimal('2149107.66'), unit_cost=Decimal('364.69'), unit_price=Decimal('421.89'), units_sold=5094)\n",
            "Row(id=UUID('29c91958-3ef1-4807-9e8b-1ec21bb441d1'), country='Togo', item_type='Cosmetics', order_date=Date(16686), order_id='563681733', order_priority='M', region='Sub-Saharan Africa', sales_channel='Online', ship_date=Date(16687), total_cost=Decimal('1265563.98'), total_profit=Decimal('835619.22'), total_revenue=Decimal('2101183.2'), unit_cost=Decimal('263.33'), unit_price=Decimal('437.2'), units_sold=4806)\n",
            "\n",
            "Total number of rows in bronze_sales: 99\n",
            "\n",
            "Connection closed\n"
          ]
        }
      ]
    },
    {
      "cell_type": "markdown",
      "source": [
        "## creating silver level table"
      ],
      "metadata": {
        "id": "RBCFk_MG8b5i"
      }
    },
    {
      "cell_type": "code",
      "source": [
        "# Silver Table Creation Code\n",
        "from cassandra.cluster import Cluster\n",
        "from cassandra.auth import PlainTextAuthProvider\n",
        "from collections import defaultdict\n",
        "from decimal import Decimal\n",
        "import uuid\n",
        "\n",
        "# Connection setup\n",
        "client_id = 'XTHZjgZRWbSZqXvWcYmtJAud'\n",
        "client_secret = 'qh-ElzlZAG_bfeoDjZ9.ZCbht7jJ_WrQrh27Se6RsPNFxgz6wBnlY+B2KkyCXpwiMna.-F_bQy1I7Le5.CByML5,1MjuoWRNTjYYjl8NbrcwI1Yqrq2G2Q.u48XSY0Km'\n",
        "secure_connect_bundle_path = '/content/Assignment3/secure-connect-sneha.zip'\n",
        "\n",
        "auth_provider = PlainTextAuthProvider(client_id, client_secret)\n",
        "cluster = Cluster(\n",
        "    cloud={'secure_connect_bundle': secure_connect_bundle_path},\n",
        "    auth_provider=auth_provider,\n",
        "    protocol_version=4\n",
        ")\n",
        "\n",
        "try:\n",
        "    session = cluster.connect()\n",
        "    session.set_keyspace('sneha')\n",
        "\n",
        "    # Drop existing Silver table if it exists\n",
        "    session.execute(\"DROP TABLE IF EXISTS silver_sales_summary\")\n",
        "\n",
        "    # Create Silver Table\n",
        "    create_silver_table_query = \"\"\"\n",
        "    CREATE TABLE IF NOT EXISTS silver_sales_summary (\n",
        "        id UUID PRIMARY KEY,\n",
        "        region TEXT,\n",
        "        item_type TEXT,\n",
        "        total_units_sold INT,\n",
        "        average_unit_price DECIMAL,\n",
        "        average_unit_cost DECIMAL,\n",
        "        total_revenue DECIMAL,\n",
        "        total_profit DECIMAL\n",
        "    )\n",
        "    \"\"\"\n",
        "    session.execute(create_silver_table_query)\n",
        "    print(\"Silver table created successfully\")\n",
        "\n",
        "    # Fetch data from Bronze table\n",
        "    select_query = \"\"\"\n",
        "    SELECT region, item_type, units_sold, unit_price, unit_cost, total_revenue, total_profit\n",
        "    FROM bronze_sales\n",
        "    \"\"\"\n",
        "    rows = session.execute(select_query)\n",
        "\n",
        "    # Aggregate data using Python\n",
        "    aggregated_data = defaultdict(lambda: {\n",
        "        'total_units_sold': 0,\n",
        "        'total_revenue': Decimal(0),\n",
        "        'total_profit': Decimal(0),\n",
        "        'unit_price_sum': Decimal(0),\n",
        "        'unit_cost_sum': Decimal(0),\n",
        "        'count': 0\n",
        "    })\n",
        "\n",
        "    for row in rows:\n",
        "        # Access data by index\n",
        "        region = row[0]\n",
        "        item_type = row[1]\n",
        "        units_sold = row[2]\n",
        "        unit_price = row[3]\n",
        "        unit_cost = row[4]\n",
        "        total_revenue = row[5]\n",
        "        total_profit = row[6]\n",
        "\n",
        "        key = (region, item_type)\n",
        "        data = aggregated_data[key]\n",
        "        data['total_units_sold'] += units_sold\n",
        "        data['total_revenue'] += total_revenue\n",
        "        data['total_profit'] += total_profit\n",
        "        data['unit_price_sum'] += unit_price\n",
        "        data['unit_cost_sum'] += unit_cost\n",
        "        data['count'] += 1\n",
        "\n",
        "    # Insert aggregated data into Silver table\n",
        "    insert_query = \"\"\"\n",
        "    INSERT INTO silver_sales_summary (\n",
        "        id, region, item_type, total_units_sold, average_unit_price,\n",
        "        average_unit_cost, total_revenue, total_profit\n",
        "    ) VALUES (%s, %s, %s, %s, %s, %s, %s, %s)\n",
        "    \"\"\"\n",
        "\n",
        "    for (region, item_type), data in aggregated_data.items():\n",
        "        average_unit_price = data['unit_price_sum'] / Decimal(data['count'])\n",
        "        average_unit_cost = data['unit_cost_sum'] / Decimal(data['count'])\n",
        "        session.execute(insert_query, (\n",
        "            uuid.uuid4(),\n",
        "            region,\n",
        "            item_type,\n",
        "            data['total_units_sold'],\n",
        "            average_unit_price,\n",
        "            average_unit_cost,\n",
        "            data['total_revenue'],\n",
        "            data['total_profit']\n",
        "        ))\n",
        "        print(f\"Inserted row for Region: {region}, Item_Type: {item_type}\")\n",
        "\n",
        "except Exception as e:\n",
        "    print(f\"An error occurred: {e}\")\n",
        "\n",
        "finally:\n",
        "    cluster.shutdown()\n",
        "    print(\"Connection closed\")\n"
      ],
      "metadata": {
        "id": "AAzCctBGEr0S",
        "outputId": "a3e92aa3-3061-4dc9-84b1-c6c341a6e5f9",
        "colab": {
          "base_uri": "https://localhost:8080/"
        }
      },
      "execution_count": 18,
      "outputs": [
        {
          "output_type": "stream",
          "name": "stdout",
          "text": [
            "Silver table created successfully\n",
            "Inserted row for Region: Central America and the Caribbean, Item_Type: Office Supplies\n",
            "Inserted row for Region: Asia, Item_Type: Vegetables\n",
            "Inserted row for Region: Europe, Item_Type: Household\n",
            "Inserted row for Region: Sub-Saharan Africa, Item_Type: Fruits\n",
            "Inserted row for Region: Australia and Oceania, Item_Type: Baby Food\n",
            "Inserted row for Region: Central America and the Caribbean, Item_Type: Household\n",
            "Inserted row for Region: Sub-Saharan Africa, Item_Type: Clothes\n",
            "Inserted row for Region: North America, Item_Type: Personal Care\n",
            "Inserted row for Region: Sub-Saharan Africa, Item_Type: Meat\n",
            "Inserted row for Region: Sub-Saharan Africa, Item_Type: Cosmetics\n",
            "Inserted row for Region: Australia and Oceania, Item_Type: Beverages\n",
            "Inserted row for Region: Sub-Saharan Africa, Item_Type: Personal Care\n",
            "Inserted row for Region: Europe, Item_Type: Office Supplies\n",
            "Inserted row for Region: Asia, Item_Type: Office Supplies\n",
            "Inserted row for Region: Europe, Item_Type: Beverages\n",
            "Inserted row for Region: Central America and the Caribbean, Item_Type: Fruits\n",
            "Inserted row for Region: Asia, Item_Type: Personal Care\n",
            "Inserted row for Region: Asia, Item_Type: Fruits\n",
            "Inserted row for Region: Asia, Item_Type: Beverages\n",
            "Inserted row for Region: Central America and the Caribbean, Item_Type: Beverages\n",
            "Inserted row for Region: Europe, Item_Type: Personal Care\n",
            "Inserted row for Region: Middle East and North Africa, Item_Type: Beverages\n",
            "Inserted row for Region: Middle East and North Africa, Item_Type: Household\n",
            "Inserted row for Region: Middle East and North Africa, Item_Type: Clothes\n",
            "Inserted row for Region: Asia, Item_Type: Meat\n",
            "Inserted row for Region: North America, Item_Type: Cosmetics\n",
            "Inserted row for Region: Asia, Item_Type: Household\n",
            "Inserted row for Region: Europe, Item_Type: Cosmetics\n",
            "Inserted row for Region: Middle East and North Africa, Item_Type: Cosmetics\n",
            "Inserted row for Region: Asia, Item_Type: Cereal\n",
            "Inserted row for Region: Sub-Saharan Africa, Item_Type: Office Supplies\n",
            "Inserted row for Region: Asia, Item_Type: Snacks\n",
            "Inserted row for Region: Sub-Saharan Africa, Item_Type: Household\n",
            "Inserted row for Region: Australia and Oceania, Item_Type: Cereal\n",
            "Inserted row for Region: Central America and the Caribbean, Item_Type: Baby Food\n",
            "Inserted row for Region: Europe, Item_Type: Fruits\n",
            "Inserted row for Region: Europe, Item_Type: Cereal\n",
            "Inserted row for Region: Sub-Saharan Africa, Item_Type: Beverages\n",
            "Inserted row for Region: Central America and the Caribbean, Item_Type: Personal Care\n",
            "Inserted row for Region: Europe, Item_Type: Vegetables\n",
            "Inserted row for Region: Australia and Oceania, Item_Type: Clothes\n",
            "Inserted row for Region: Europe, Item_Type: Baby Food\n",
            "Inserted row for Region: Australia and Oceania, Item_Type: Meat\n",
            "Inserted row for Region: Sub-Saharan Africa, Item_Type: Baby Food\n",
            "Inserted row for Region: Australia and Oceania, Item_Type: Fruits\n",
            "Inserted row for Region: Australia and Oceania, Item_Type: Household\n",
            "Inserted row for Region: Middle East and North Africa, Item_Type: Meat\n",
            "Inserted row for Region: Europe, Item_Type: Clothes\n",
            "Inserted row for Region: Middle East and North Africa, Item_Type: Office Supplies\n",
            "Connection closed\n"
          ]
        }
      ]
    },
    {
      "cell_type": "markdown",
      "source": [
        "## Creating Gold level table\n",
        "Gold sales by region"
      ],
      "metadata": {
        "id": "AW690EONI9_j"
      }
    },
    {
      "cell_type": "code",
      "source": [
        "# Gold Table: gold_sales_by_region\n",
        "\n",
        "from cassandra.cluster import Cluster\n",
        "from cassandra.auth import PlainTextAuthProvider\n",
        "from collections import defaultdict\n",
        "from decimal import Decimal\n",
        "import uuid\n",
        "\n",
        "# Connection setup\n",
        "client_id = 'XTHZjgZRWbSZqXvWcYmtJAud'\n",
        "client_secret = 'qh-ElzlZAG_bfeoDjZ9.ZCbht7jJ_WrQrh27Se6RsPNFxgz6wBnlY+B2KkyCXpwiMna.-F_bQy1I7Le5.CByML5,1MjuoWRNTjYYjl8NbrcwI1Yqrq2G2Q.u48XSY0Km'\n",
        "secure_connect_bundle_path = '/content/Assignment3/secure-connect-sneha.zip'\n",
        "\n",
        "auth_provider = PlainTextAuthProvider(client_id, client_secret)\n",
        "cluster = Cluster(\n",
        "    cloud={'secure_connect_bundle': secure_connect_bundle_path},\n",
        "    auth_provider=auth_provider,\n",
        "    protocol_version=4\n",
        ")\n",
        "try:\n",
        "    session = cluster.connect()\n",
        "    session.set_keyspace('sneha')\n",
        "\n",
        "    # Drop existing Gold table if it exists\n",
        "    session.execute(\"DROP TABLE IF EXISTS gold_sales_by_region\")\n",
        "\n",
        "    # Create Gold Table\n",
        "    create_gold_table_query = \"\"\"\n",
        "    CREATE TABLE IF NOT EXISTS gold_sales_by_region (\n",
        "        region TEXT PRIMARY KEY,\n",
        "        total_units_sold INT,\n",
        "        total_revenue DECIMAL,\n",
        "        total_profit DECIMAL\n",
        "    )\n",
        "    \"\"\"\n",
        "    session.execute(create_gold_table_query)\n",
        "    print(\"Gold table (sales by region) created successfully\")\n",
        "\n",
        "    # Fetch data from Silver table\n",
        "    select_query = \"\"\"\n",
        "    SELECT region, total_units_sold, total_revenue, total_profit\n",
        "    FROM silver_sales_summary\n",
        "    \"\"\"\n",
        "    rows = session.execute(select_query)\n",
        "\n",
        "    # Aggregate data by region\n",
        "    region_data = defaultdict(lambda: {'total_units_sold': 0, 'total_revenue': Decimal(0), 'total_profit': Decimal(0)})\n",
        "\n",
        "    for row in rows:\n",
        "        region_data[row.region]['total_units_sold'] += row.total_units_sold\n",
        "        region_data[row.region]['total_revenue'] += row.total_revenue\n",
        "        region_data[row.region]['total_profit'] += row.total_profit\n",
        "\n",
        "    # Insert aggregated data into Gold table\n",
        "    insert_query = \"\"\"\n",
        "    INSERT INTO gold_sales_by_region (\n",
        "        region, total_units_sold, total_revenue, total_profit\n",
        "    ) VALUES (%s, %s, %s, %s)\n",
        "    \"\"\"\n",
        "\n",
        "    for region, data in region_data.items():\n",
        "        session.execute(insert_query, (\n",
        "            region,\n",
        "            data['total_units_sold'],\n",
        "            data['total_revenue'],\n",
        "            data['total_profit']\n",
        "        ))\n",
        "        print(f\"Inserted row for Region: {region}\")\n",
        "\n",
        "except Exception as e:\n",
        "    print(f\"An error occurred: {e}\")\n",
        "\n",
        "finally:\n",
        "    cluster.shutdown()\n",
        "    print(\"Connection closed\")\n"
      ],
      "metadata": {
        "colab": {
          "base_uri": "https://localhost:8080/"
        },
        "id": "lPFR_yYZ8D4N",
        "outputId": "4f5c038e-4f70-4796-a4fd-5c4b9935408a"
      },
      "execution_count": 23,
      "outputs": [
        {
          "output_type": "stream",
          "name": "stdout",
          "text": [
            "Gold table (sales by region) created successfully\n",
            "Inserted row for Region: Sub-Saharan Africa\n",
            "Inserted row for Region: Australia and Oceania\n",
            "Inserted row for Region: Middle East and North Africa\n",
            "Inserted row for Region: Central America and the Caribbean\n",
            "Inserted row for Region: Asia\n",
            "Inserted row for Region: North America\n",
            "Inserted row for Region: Europe\n",
            "Connection closed\n"
          ]
        }
      ]
    },
    {
      "cell_type": "markdown",
      "source": [
        "gold sales by items type"
      ],
      "metadata": {
        "id": "lubHV41tJM4z"
      }
    },
    {
      "cell_type": "code",
      "source": [
        "# Gold Table: gold_sales_by_item_type\n",
        "\n",
        "from cassandra.cluster import Cluster\n",
        "from cassandra.auth import PlainTextAuthProvider\n",
        "from collections import defaultdict\n",
        "from decimal import Decimal\n",
        "import uuid\n",
        "\n",
        "# Connection setup\n",
        "client_id = 'XTHZjgZRWbSZqXvWcYmtJAud'\n",
        "client_secret = 'qh-ElzlZAG_bfeoDjZ9.ZCbht7jJ_WrQrh27Se6RsPNFxgz6wBnlY+B2KkyCXpwiMna.-F_bQy1I7Le5.CByML5,1MjuoWRNTjYYjl8NbrcwI1Yqrq2G2Q.u48XSY0Km'\n",
        "secure_connect_bundle_path = '/content/Assignment3/secure-connect-sneha.zip'\n",
        "\n",
        "auth_provider = PlainTextAuthProvider(client_id, client_secret)\n",
        "cluster = Cluster(\n",
        "    cloud={'secure_connect_bundle': secure_connect_bundle_path},\n",
        "    auth_provider=auth_provider,\n",
        "    protocol_version=4\n",
        ")\n",
        "try:\n",
        "    session = cluster.connect()\n",
        "    session.set_keyspace('sneha')\n",
        "\n",
        "    # Drop existing Gold table if it exists\n",
        "    session.execute(\"DROP TABLE IF EXISTS gold_sales_by_item_type\")\n",
        "\n",
        "    # Create Gold Table\n",
        "    create_gold_table_query = \"\"\"\n",
        "    CREATE TABLE IF NOT EXISTS gold_sales_by_item_type (\n",
        "        item_type TEXT PRIMARY KEY,\n",
        "        total_units_sold INT,\n",
        "        total_revenue DECIMAL,\n",
        "        total_profit DECIMAL,\n",
        "        average_profit_margin DECIMAL\n",
        "    )\n",
        "    \"\"\"\n",
        "    session.execute(create_gold_table_query)\n",
        "    print(\"Gold table (sales by item type) created successfully\")\n",
        "\n",
        "    # Fetch data from Silver table\n",
        "    select_query = \"\"\"\n",
        "    SELECT item_type, total_units_sold, total_revenue, total_profit\n",
        "    FROM silver_sales_summary\n",
        "    \"\"\"\n",
        "    rows = session.execute(select_query)\n",
        "\n",
        "    # Aggregate data by item_type\n",
        "    item_type_data = defaultdict(lambda: {'total_units_sold': 0, 'total_revenue': Decimal(0), 'total_profit': Decimal(0)})\n",
        "\n",
        "    for row in rows:\n",
        "        item_type_data[row.item_type]['total_units_sold'] += row.total_units_sold\n",
        "        item_type_data[row.item_type]['total_revenue'] += row.total_revenue\n",
        "        item_type_data[row.item_type]['total_profit'] += row.total_profit\n",
        "\n",
        "    # Insert aggregated data into Gold table\n",
        "    insert_query = \"\"\"\n",
        "    INSERT INTO gold_sales_by_item_type (\n",
        "        item_type, total_units_sold, total_revenue, total_profit, average_profit_margin\n",
        "    ) VALUES (%s, %s, %s, %s, %s)\n",
        "    \"\"\"\n",
        "\n",
        "    for item_type, data in item_type_data.items():\n",
        "        # Calculate average profit margin\n",
        "        average_profit_margin = (data['total_profit'] / data['total_revenue']) if data['total_revenue'] > 0 else Decimal(0)\n",
        "        session.execute(insert_query, (\n",
        "            item_type,\n",
        "            data['total_units_sold'],\n",
        "            data['total_revenue'],\n",
        "            data['total_profit'],\n",
        "            average_profit_margin\n",
        "        ))\n",
        "        print(f\"Inserted row for Item_Type: {item_type}\")\n",
        "\n",
        "except Exception as e:\n",
        "    print(f\"An error occurred: {e}\")\n",
        "\n",
        "finally:\n",
        "    cluster.shutdown()\n",
        "    print(\"Connection closed\")\n"
      ],
      "metadata": {
        "colab": {
          "base_uri": "https://localhost:8080/"
        },
        "id": "Nq9SzGlR8LQv",
        "outputId": "59bf9fc0-5393-464f-85ab-173b71ebdffa"
      },
      "execution_count": 26,
      "outputs": [
        {
          "output_type": "stream",
          "name": "stdout",
          "text": [
            "Gold table (sales by item type) created successfully\n",
            "Inserted row for Item_Type: Baby Food\n",
            "Inserted row for Item_Type: Household\n",
            "Inserted row for Item_Type: Beverages\n",
            "Inserted row for Item_Type: Meat\n",
            "Inserted row for Item_Type: Fruits\n",
            "Inserted row for Item_Type: Cereal\n",
            "Inserted row for Item_Type: Cosmetics\n",
            "Inserted row for Item_Type: Personal Care\n",
            "Inserted row for Item_Type: Office Supplies\n",
            "Inserted row for Item_Type: Clothes\n",
            "Inserted row for Item_Type: Vegetables\n",
            "Inserted row for Item_Type: Snacks\n",
            "Connection closed\n"
          ]
        }
      ]
    },
    {
      "cell_type": "markdown",
      "source": [
        "Gold top performing items"
      ],
      "metadata": {
        "id": "u0wnuObJJSNe"
      }
    },
    {
      "cell_type": "code",
      "source": [
        "# Gold Table: gold_top_performing_items\n",
        "\n",
        "from cassandra.cluster import Cluster\n",
        "from cassandra.auth import PlainTextAuthProvider\n",
        "from collections import defaultdict\n",
        "from decimal import Decimal\n",
        "import uuid\n",
        "\n",
        "# Connection setup\n",
        "client_id = 'XTHZjgZRWbSZqXvWcYmtJAud'\n",
        "client_secret = 'qh-ElzlZAG_bfeoDjZ9.ZCbht7jJ_WrQrh27Se6RsPNFxgz6wBnlY+B2KkyCXpwiMna.-F_bQy1I7Le5.CByML5,1MjuoWRNTjYYjl8NbrcwI1Yqrq2G2Q.u48XSY0Km'\n",
        "secure_connect_bundle_path = '/content/Assignment3/secure-connect-sneha.zip'\n",
        "\n",
        "auth_provider = PlainTextAuthProvider(client_id, client_secret)\n",
        "cluster = Cluster(\n",
        "    cloud={'secure_connect_bundle': secure_connect_bundle_path},\n",
        "    auth_provider=auth_provider,\n",
        "    protocol_version=4\n",
        ")\n",
        "try:\n",
        "    session = cluster.connect()\n",
        "    session.set_keyspace('sneha')\n",
        "\n",
        "    # Drop existing Gold table if it exists\n",
        "    session.execute(\"DROP TABLE IF EXISTS gold_top_performing_items\")\n",
        "\n",
        "    # Create Gold Table\n",
        "    create_gold_table_query = \"\"\"\n",
        "    CREATE TABLE IF NOT EXISTS gold_top_performing_items (\n",
        "        id UUID PRIMARY KEY,\n",
        "        region TEXT,\n",
        "        item_type TEXT,\n",
        "        total_profit DECIMAL\n",
        "    )\n",
        "    \"\"\"\n",
        "    session.execute(create_gold_table_query)\n",
        "    print(\"Gold table (top performing items) created successfully\")\n",
        "\n",
        "    # Fetch and rank data from Silver table\n",
        "    select_query = \"\"\"\n",
        "    SELECT region, item_type, total_profit\n",
        "    FROM silver_sales_summary\n",
        "    \"\"\"\n",
        "    rows = session.execute(select_query)\n",
        "\n",
        "    # Rank items by region and total profit\n",
        "    ranked_data = defaultdict(list)\n",
        "    for row in rows:\n",
        "        ranked_data[row.region].append((row.item_type, row.total_profit))\n",
        "\n",
        "    # Sort items within each region by profit (descending)\n",
        "    for region, items in ranked_data.items():\n",
        "        ranked_data[region] = sorted(items, key=lambda x: x[1], reverse=True)[:5]  # Top 5 items\n",
        "\n",
        "    # Insert ranked data into Gold table\n",
        "    insert_query = \"\"\"\n",
        "    INSERT INTO gold_top_performing_items (\n",
        "        id, region, item_type, total_profit\n",
        "    ) VALUES (%s, %s, %s, %s)\n",
        "    \"\"\"\n",
        "\n",
        "    for region, items in ranked_data.items():\n",
        "        for item_type, total_profit in items:\n",
        "            session.execute(insert_query, (\n",
        "                uuid.uuid4(),\n",
        "                region,\n",
        "                item_type,\n",
        "                total_profit\n",
        "            ))\n",
        "            print(f\"Inserted Top Item for Region: {region}, Item_Type: {item_type}\")\n",
        "\n",
        "except Exception as e:\n",
        "    print(f\"An error occurred: {e}\")\n",
        "\n",
        "finally:\n",
        "    cluster.shutdown()\n",
        "    print(\"Connection closed\")\n"
      ],
      "metadata": {
        "colab": {
          "base_uri": "https://localhost:8080/"
        },
        "id": "Ofmfv9Ah9gGP",
        "outputId": "edd241e7-1837-437f-b648-43ae90bb734c"
      },
      "execution_count": 29,
      "outputs": [
        {
          "output_type": "stream",
          "name": "stdout",
          "text": [
            "Gold table (top performing items) created successfully\n",
            "Inserted Top Item for Region: Sub-Saharan Africa, Item_Type: Cosmetics\n",
            "Inserted Top Item for Region: Sub-Saharan Africa, Item_Type: Office Supplies\n",
            "Inserted Top Item for Region: Sub-Saharan Africa, Item_Type: Clothes\n",
            "Inserted Top Item for Region: Sub-Saharan Africa, Item_Type: Household\n",
            "Inserted Top Item for Region: Sub-Saharan Africa, Item_Type: Meat\n",
            "Inserted Top Item for Region: Australia and Oceania, Item_Type: Household\n",
            "Inserted Top Item for Region: Australia and Oceania, Item_Type: Clothes\n",
            "Inserted Top Item for Region: Australia and Oceania, Item_Type: Baby Food\n",
            "Inserted Top Item for Region: Australia and Oceania, Item_Type: Cereal\n",
            "Inserted Top Item for Region: Australia and Oceania, Item_Type: Beverages\n",
            "Inserted Top Item for Region: Middle East and North Africa, Item_Type: Cosmetics\n",
            "Inserted Top Item for Region: Middle East and North Africa, Item_Type: Office Supplies\n",
            "Inserted Top Item for Region: Middle East and North Africa, Item_Type: Meat\n",
            "Inserted Top Item for Region: Middle East and North Africa, Item_Type: Clothes\n",
            "Inserted Top Item for Region: Middle East and North Africa, Item_Type: Household\n",
            "Inserted Top Item for Region: Central America and the Caribbean, Item_Type: Household\n",
            "Inserted Top Item for Region: Central America and the Caribbean, Item_Type: Office Supplies\n",
            "Inserted Top Item for Region: Central America and the Caribbean, Item_Type: Personal Care\n",
            "Inserted Top Item for Region: Central America and the Caribbean, Item_Type: Baby Food\n",
            "Inserted Top Item for Region: Central America and the Caribbean, Item_Type: Beverages\n",
            "Inserted Top Item for Region: Asia, Item_Type: Meat\n",
            "Inserted Top Item for Region: Asia, Item_Type: Household\n",
            "Inserted Top Item for Region: Asia, Item_Type: Cereal\n",
            "Inserted Top Item for Region: Asia, Item_Type: Snacks\n",
            "Inserted Top Item for Region: Asia, Item_Type: Office Supplies\n",
            "Inserted Top Item for Region: North America, Item_Type: Cosmetics\n",
            "Inserted Top Item for Region: North America, Item_Type: Personal Care\n",
            "Inserted Top Item for Region: Europe, Item_Type: Household\n",
            "Inserted Top Item for Region: Europe, Item_Type: Cosmetics\n",
            "Inserted Top Item for Region: Europe, Item_Type: Cereal\n",
            "Inserted Top Item for Region: Europe, Item_Type: Office Supplies\n",
            "Inserted Top Item for Region: Europe, Item_Type: Baby Food\n",
            "Connection closed\n"
          ]
        }
      ]
    },
    {
      "cell_type": "code",
      "source": [],
      "metadata": {
        "id": "m1Nfp6V1-tDm"
      },
      "execution_count": null,
      "outputs": []
    }
  ]
}